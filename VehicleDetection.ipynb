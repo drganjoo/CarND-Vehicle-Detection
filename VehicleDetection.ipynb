{
 "cells": [
  {
   "cell_type": "markdown",
   "metadata": {
    "deletable": true,
    "editable": true
   },
   "source": [
    "# Training SVC"
   ]
  },
  {
   "cell_type": "markdown",
   "metadata": {
    "deletable": true,
    "editable": true
   },
   "source": [
    "## Distribution of Data\n",
    "\n",
    "Need to make sure that the training data is normalized and has almost equal number of Car and Non-Car samples"
   ]
  },
  {
   "cell_type": "code",
   "execution_count": 1,
   "metadata": {
    "collapsed": false,
    "deletable": true,
    "editable": true
   },
   "outputs": [
    {
     "name": "stdout",
     "output_type": "stream",
     "text": [
      "Total Cars: 8792\n",
      "Total Non-Cars: 8968\n",
      "Total Data: 17760\n",
      "Total Training: 14208\n",
      "Total Test: 3552\n"
     ]
    },
    {
     "data": {
      "image/png": "[encoded data removed]",
      "text/plain": [
       "<matplotlib.figure.Figure at 0x7fc51818a2b0>"
      ]
     },
     "metadata": {},
     "output_type": "display_data"
    }
   ],
   "source": [
    "import matplotlib.pyplot as plt\n",
    "import numpy as np\n",
    "import cv2\n",
    "import glob\n",
    "import time\n",
    "from sklearn.svm import LinearSVC\n",
    "from sklearn.preprocessing import StandardScaler\n",
    "from skimage.feature import hog\n",
    "from sklearn.model_selection import train_test_split\n",
    "\n",
    "cars = glob.glob('./vehicles/**/*.png', recursive=True)\n",
    "notcars = glob.glob('./non-vehicles/**/*.png', recursive=True)\n",
    "\n",
    "#cars = glob.glob('./vehicles_smallset/**/*.jpeg', recursive=True)\n",
    "#notcars = glob.glob('./non-vehicles_smallset/**/*.jpeg', recursive=True)\n",
    "\n",
    "count = len(cars) + len(notcars)\n",
    "\n",
    "print('Total Cars:', len(cars))\n",
    "print('Total Non-Cars:', len(notcars))\n",
    "print('Total Data:', count)\n",
    "print('Total Training:', int(count * 0.8))\n",
    "print('Total Test:', int(count * 0.2))\n",
    "\n",
    "data = [len(cars), len(notcars)]\n",
    "index = np.arange(2)\n",
    "plt.bar(index, data)\n",
    "plt.xticks(index, ('Cars', 'Not Cars'))\n",
    "plt.suptitle('Data Distribution')\n",
    "plt.show()"
   ]
  },
  {
   "cell_type": "markdown",
   "metadata": {
    "deletable": true,
    "editable": true
   },
   "source": [
    "## Common Functions"
   ]
  },
  {
   "cell_type": "markdown",
   "metadata": {
    "deletable": true,
    "editable": true
   },
   "source": [
    "## Color Space Choice"
   ]
  },
  {
   "cell_type": "code",
   "execution_count": null,
   "metadata": {
    "collapsed": false,
    "deletable": true,
    "editable": true,
    "scrolled": false
   },
   "outputs": [],
   "source": [
    "from lesson_functions import *\n",
    "\n",
    "color_space = 'LAB' # Can be RGB, HSV, LUV, HLS, YUV, YCrCb\n",
    "\n",
    "def display_random(filenames, n_samples):\n",
    "    f, ax = plt.subplots(n_samples, 4, figsize=(15,15))\n",
    "    f.suptitle(color_space + \" Color Space\", fontsize=20)\n",
    "\n",
    "    indices = np.random.choice(len(filenames), n_samples, replace=False)\n",
    "    \n",
    "    for i in range(n_samples):\n",
    "        index = indices[i]\n",
    "        img = load_image(filenames[index], color_space)\n",
    "        rgb = load_image(filenames[index], 'RGB')\n",
    "\n",
    "        ax[i,0].imshow(rgb)\n",
    "        ax[i,0].set_title('Original ({})'.format(index))\n",
    "\n",
    "        for j in range(3):\n",
    "            ax[i,1 + j].imshow(img[:,:,j], cmap='gray')\n",
    "            ax[i,1 + j].set_title(color_space[j] + ' Channel')\n",
    "\n",
    "display_random(cars, 5)\n",
    "display_random(notcars, 5)\n",
    "plt.show()"
   ]
  },
  {
   "cell_type": "markdown",
   "metadata": {
    "deletable": true,
    "editable": true
   },
   "source": [
    "## Hog Test Sample"
   ]
  },
  {
   "cell_type": "code",
   "execution_count": null,
   "metadata": {
    "collapsed": false,
    "deletable": true,
    "editable": true,
    "scrolled": false
   },
   "outputs": [],
   "source": [
    "orient = 12\n",
    "pix_per_cell = 16\n",
    "cell_per_block = 4\n",
    "\n",
    "n_samples = 5\n",
    "\n",
    "def show_hog(title, filenames):\n",
    "    indices = np.random.choice(len(filenames), n_samples)\n",
    "    \n",
    "    f, ax = plt.subplots(n_samples, 3, figsize=(10,21))\n",
    "    f.suptitle(title, fontsize=20)\n",
    "\n",
    "    for i in range(n_samples):\n",
    "        index = indices[i]\n",
    "\n",
    "        lab = load_image(filenames[index], color_space)\n",
    "        L = lab[:,:,0]\n",
    "        B = lab[:,:,1]\n",
    "        \n",
    "        _, hog_img_l = get_hog_features(L, orient=orient, pix_per_cell=pix_per_cell, \n",
    "                                        cell_per_block=cell_per_block, vis=True)\n",
    "                                        \n",
    "        _, hog_img_b = get_hog_features(B, orient=orient, pix_per_cell=pix_per_cell, \n",
    "                                        cell_per_block=cell_per_block, vis=True)\n",
    "        \n",
    "        img = load_image(filenames[index], 'RGB')\n",
    "        ax[i,0].imshow(img)\n",
    "        ax[i,1].imshow(hog_img_l)\n",
    "        ax[i,2].imshow(hog_img_b)\n",
    "    \n",
    "    f.tight_layout()\n",
    "\n",
    "show_hog('Cars - Hog L,B Channels', cars)\n",
    "show_hog('Non Cars - Hog L,B Channels', notcars)\n",
    "\n",
    "plt.show()"
   ]
  },
  {
   "cell_type": "markdown",
   "metadata": {
    "deletable": true,
    "editable": true
   },
   "source": [
    "## Spatial Features\n",
    "Shows effects of spatial size, which is just a resize of image and then raveling it"
   ]
  },
  {
   "cell_type": "code",
   "execution_count": null,
   "metadata": {
    "collapsed": false,
    "deletable": true,
    "editable": true,
    "scrolled": false
   },
   "outputs": [],
   "source": [
    "n_samples = 5\n",
    "\n",
    "def show_resize(title, filenames):\n",
    "    indices = np.random.choice(len(filenames), n_samples)\n",
    "    \n",
    "    f, ax = plt.subplots(n_samples, 3, figsize=(10,16))\n",
    "    f.tight_layout()\n",
    "    f.suptitle(title, fontsize=20)\n",
    "    f.subplots_adjust(top=0.92)\n",
    "    \n",
    "    for i in range(n_samples):\n",
    "        index = indices[i]\n",
    "\n",
    "        img = []\n",
    "        img.append(load_image(filenames[index], 'RGB'))\n",
    "        img.append(cv2.resize(img[0], (32,32)))\n",
    "        img.append(cv2.resize(img[0], (16,16)))\n",
    "        \n",
    "        for j in range(len(img)):\n",
    "            ax[i,j].imshow(img[j])\n",
    "            ax[i,j].set_title(img[j].shape)\n",
    "\n",
    "show_resize('Cars - Spatial Resize', cars)\n",
    "show_resize('Non Cars - Spatial Resize', notcars)\n",
    "plt.show()"
   ]
  },
  {
   "cell_type": "markdown",
   "metadata": {
    "deletable": true,
    "editable": true
   },
   "source": [
    "## Color Histogram"
   ]
  },
  {
   "cell_type": "code",
   "execution_count": null,
   "metadata": {
    "collapsed": false,
    "deletable": true,
    "editable": true,
    "scrolled": false
   },
   "outputs": [],
   "source": [
    "n_samples = 5\n",
    "\n",
    "indices = np.random.choice(len(cars), n_samples)\n",
    "\n",
    "f, ax = plt.subplots(n_samples, 4, figsize=(10,10))\n",
    "f.tight_layout()\n",
    "f.subplots_adjust(top=0.92)\n",
    "\n",
    "for i in range(n_samples):\n",
    "    index = indices[i]\n",
    "    \n",
    "    color_space = 'LAB'\n",
    "    \n",
    "    car_img = load_image(cars[index], color_space)\n",
    "    notcar_img = load_image(notcars[index], color_space)\n",
    "    car_features = color_hist(car_img)\n",
    "    notcar_features = color_hist(notcar_img)\n",
    "\n",
    "    #  for displaying show RGB on screen\n",
    "    car_img = load_image(cars[index], \"RGB\")\n",
    "    notcar_img = load_image(notcars[index], \"RGB\")\n",
    "\n",
    "    ax[i,0].imshow(car_img)\n",
    "    ax[i,1].plot(car_features)\n",
    "    ax[i,2].imshow(notcar_img)\n",
    "    ax[i,3].plot(notcar_features)\n",
    "\n",
    "plt.show()"
   ]
  },
  {
   "cell_type": "markdown",
   "metadata": {
    "deletable": true,
    "editable": true
   },
   "source": [
    "## Gradient of Image"
   ]
  },
  {
   "cell_type": "code",
   "execution_count": null,
   "metadata": {
    "collapsed": false,
    "deletable": true,
    "editable": true,
    "scrolled": false
   },
   "outputs": [],
   "source": [
    "# def show_grad(filenames, index):\n",
    "#     #gray = load_image(filenames[index], 'GRAY')\n",
    "#     img = load_image(filenames[index], 'LAB')\n",
    "#     gray = img[:,:,0]\n",
    "#     img = cv2.GaussianBlur(gray, (3,3), 0)\n",
    "    \n",
    "#     laplacian = cv2.Laplacian(img, cv2.CV_64F)\n",
    "#     sobelx = cv2.Sobel(img, cv2.CV_64F, 1, 0, ksize=5)\n",
    "#     sobely = cv2.Sobel(img, cv2.CV_64F, 0, 1, ksize=5)\n",
    "    \n",
    "#     f, ax = plt.subplots(1, 4, figsize=(10,5))\n",
    "#     ax[0].imshow(img, cmap='gray')\n",
    "#     ax[1].imshow(laplacian, cmap='gray')\n",
    "#     ax[2].imshow(sobelx, cmap='gray')\n",
    "#     ax[3].imshow(sobely, cmap='gray')\n",
    "\n",
    "# def get_laplacian_hog(channel, visualise = False, ravel = False):\n",
    "#     laplacian = get_laplacian(channel)\n",
    "#     hog_laplacian = hog(laplacian, orientations=9, \n",
    "#                             pixels_per_cell=(8, 8),\n",
    "#                             cells_per_block=(2, 2), \n",
    "#                             transform_sqrt=False, \n",
    "#                             visualise=visualise, \n",
    "#                             feature_vector=False,\n",
    "#                             block_norm='L2-Hys')\n",
    "    \n",
    "#     if ravel == True:\n",
    "#         return np.ravel(hog_laplacian)\n",
    "    \n",
    "#     return hog_laplacian\n",
    "    \n",
    "# def show_laplac(title, filenames):\n",
    "#     indices = np.random.choice(len(filenames), n_samples)\n",
    "    \n",
    "#     f, ax = plt.subplots(n_samples, 3, figsize=(20,16))\n",
    "#     f.tight_layout()\n",
    "#     f.suptitle(title, fontsize=20)\n",
    "#     f.subplots_adjust(top=0.92)\n",
    "\n",
    "#     orient = 9  # HOG orientations\n",
    "#     pix_per_cell = 8 # HOG pixels per cell\n",
    "#     cell_per_block = 2 # HOG cells per block\n",
    "\n",
    "#     for i in range(n_samples):\n",
    "#         index = indices[i]\n",
    "        \n",
    "#         img = load_image(filenames[index], 'LAB')\n",
    "#         L = img[:,:,0]\n",
    "\n",
    "#         _, hog_img_l = get_laplacian_hog(L, visualise=True)\n",
    "\n",
    "#         laplacian = get_laplacian(L)\n",
    "\n",
    "#         ax[i,0].imshow(img, cmap='gray')\n",
    "#         ax[i,0].set_title('L Channel')\n",
    "#         ax[i,1].imshow(laplacian, cmap='gray')\n",
    "#         ax[i,1].set_title('Laplacan ' + str(laplacian.shape))\n",
    "#         ax[i,2].imshow(hog_img_l, cmap='gray')\n",
    "#         ax[i,2].set_title('Hog ' + str(hog_img_l.shape))\n",
    "\n",
    "        \n",
    "# show_laplac('Cars Laplacian', cars)\n",
    "# show_laplac('Non Cars Laplacian', notcars)\n",
    "\n",
    "# plt.show()"
   ]
  },
  {
   "cell_type": "markdown",
   "metadata": {
    "deletable": true,
    "editable": true
   },
   "source": [
    "## Features Chosen\n",
    "\n",
    "Color Space: LAB\n",
    "\n",
    "Hog of L and B channels\n",
    "\n",
    "Hog of LapLacian of L Channel\n",
    "\n",
    "[Spatial Features 32 x 32][Hog Laplacian of 16x16][Hog of L Channel 32 x 32][Hog of B Channel 32 x 32]"
   ]
  },
  {
   "cell_type": "code",
   "execution_count": 2,
   "metadata": {
    "collapsed": false,
    "deletable": true,
    "editable": true
   },
   "outputs": [
    {
     "name": "stderr",
     "output_type": "stream",
     "text": [
      "ERROR:root:Line magic function `%ext_load` not found.\n",
      "ERROR:root:Line magic function `%autoreload` not found.\n"
     ]
    },
    {
     "name": "stdout",
     "output_type": "stream",
     "text": [
      "Extracting car features\n",
      "Extracting notcar features\n",
      "Scaling combined features\n",
      "Splitting into training and testing\n",
      "X_train size: (14208, 3936)\n",
      "y_train size: (14208,)\n",
      "X_test size: (3552, 3936)\n",
      "y_test size: (3552,)\n"
     ]
    }
   ],
   "source": [
    "from skimage.feature import hog\n",
    "import pickle\n",
    "import os\n",
    "from lesson_functions import *\n",
    "import ipy_autoreload\n",
    "\n",
    "%autoreload 2\n",
    "\n",
    "orient = 12\n",
    "pix_per_cell = 16\n",
    "cell_per_block = 4\n",
    "\n",
    "spatial_feat = True # Spatial features on or off\n",
    "hist_feat = True # Histogram features on or off\n",
    "hog_feat = True # HOG features on or off\n",
    "    \n",
    "# pipeline = FeaturePipeLine()\n",
    "# pipeline.add(SpatialFeature())\n",
    "# pipeline.add(HogFeature())\n",
    "# pipeline.add(HistogramFeature())\n",
    "\n",
    "# pipeline.process(cars)\n",
    "\n",
    "print('Extracting car features')\n",
    "car_features = extract_features(cars, color_space='LAB', orient=orient, pix_per_cell=pix_per_cell,\n",
    "                               cell_per_block=cell_per_block, hog_channel=0,\n",
    "                               spatial_feat = spatial_feat,\n",
    "                               hist_feat = hist_feat,\n",
    "                               hog_feat = hog_feat)\n",
    "\n",
    "print('Extracting notcar features')\n",
    "notcar_features = extract_features(notcars, color_space='LAB', orient=orient, pix_per_cell=pix_per_cell,\n",
    "                               cell_per_block=cell_per_block, hog_channel=0,\n",
    "                               spatial_feat = spatial_feat,\n",
    "                               hist_feat = hist_feat,\n",
    "                               hog_feat = hog_feat)\n",
    "\n",
    "print('Scaling combined features')\n",
    "X = np.vstack((car_features, notcar_features)).astype(np.float64)                        \n",
    "X_scaler = StandardScaler().fit(X)\n",
    "scaled_X = X_scaler.transform(X)\n",
    "\n",
    "# Define the labels vector\n",
    "y = np.hstack((np.ones(len(car_features)), np.zeros(len(notcar_features))))\n",
    "\n",
    "print('Splitting into training and testing')\n",
    "# Split up data into randomized training and test sets\n",
    "rand_state = np.random.randint(0, 100)\n",
    "X_train, X_test, y_train, y_test = train_test_split(scaled_X, y, test_size=0.2, random_state=rand_state)\n",
    "\n",
    "print('X_train size:', X_train.shape)\n",
    "print('y_train size:', y_train.shape)\n",
    "print('X_test size:', X_test.shape)\n",
    "print('y_test size:', y_test.shape)"
   ]
  },
  {
   "cell_type": "markdown",
   "metadata": {
    "deletable": true,
    "editable": true
   },
   "source": [
    "## SVM Training"
   ]
  },
  {
   "cell_type": "code",
   "execution_count": 3,
   "metadata": {
    "collapsed": false,
    "deletable": true,
    "editable": true
   },
   "outputs": [
    {
     "name": "stdout",
     "output_type": "stream",
     "text": [
      "Starting training...\n",
      "6.12 Seconds to train SVC...\n",
      "Train Accuracy of SVC =  1.0\n",
      "Test Accuracy of SVC =  0.991\n",
      "Time for accuracy testing 0.05869293212890625\n"
     ]
    }
   ],
   "source": [
    "svc = LinearSVC()\n",
    "\n",
    "t = time.time()\n",
    "print('Starting training...')\n",
    "\n",
    "svc.fit(X_train, y_train)\n",
    "\n",
    "t2 = time.time()\n",
    "print(round(t2-t, 2), 'Seconds to train SVC...')\n",
    "\n",
    "print('Train Accuracy of SVC = ', round(svc.score(X_train, y_train), 4))\n",
    "print('Test Accuracy of SVC = ', round(svc.score(X_test, y_test), 4))\n",
    "\n",
    "t = time.time()\n",
    "print('Time for accuracy testing', t - t2)\n"
   ]
  },
  {
   "cell_type": "code",
   "execution_count": null,
   "metadata": {
    "collapsed": true,
    "deletable": true,
    "editable": true
   },
   "outputs": [],
   "source": [
    "# Define a function that takes an image,\n",
    "# start and stop positions in both x and y, \n",
    "# window size (x and y dimensions),  \n",
    "# and overlap fraction (for both x and y)\n",
    "def slide_window(img, x_start_stop=[None, None], y_start_stop=[None, None], \n",
    "                    xy_window=(64, 64), \n",
    "                    xy_overlap=(0.5, 0.5)):\n",
    "    # If x and/or y start/stop positions not defined, set to image size\n",
    "    if x_start_stop[0] == None:\n",
    "        x_start_stop[0] = 0\n",
    "    if x_start_stop[1] == None:\n",
    "        x_start_stop[1] = img.shape[1]\n",
    "    if y_start_stop[0] == None:\n",
    "        y_start_stop[0] = 0\n",
    "    if y_start_stop[1] == None:\n",
    "        y_start_stop[1] = img.shape[0]\n",
    "    # Compute the span of the region to be searched    \n",
    "    xspan = x_start_stop[1] - x_start_stop[0]\n",
    "    yspan = y_start_stop[1] - y_start_stop[0]\n",
    "    # Compute the number of pixels per step in x/y\n",
    "    nx_pix_per_step = np.int(xy_window[0]*(1 - xy_overlap[0]))\n",
    "    ny_pix_per_step = np.int(xy_window[1]*(1 - xy_overlap[1]))\n",
    "    # Compute the number of windows in x/y\n",
    "    nx_buffer = np.int(xy_window[0]*(xy_overlap[0]))\n",
    "    ny_buffer = np.int(xy_window[1]*(xy_overlap[1]))\n",
    "    nx_windows = np.int((xspan-nx_buffer)/nx_pix_per_step) \n",
    "    ny_windows = np.int((yspan-ny_buffer)/ny_pix_per_step) \n",
    "    # Initialize a list to append window positions to\n",
    "    window_list = []\n",
    "    # Loop through finding x and y window positions\n",
    "    # Note: you could vectorize this step, but in practice\n",
    "    # you'll be considering windows one by one with your\n",
    "    # classifier, so looping makes sense\n",
    "    for ys in range(ny_windows):\n",
    "        for xs in range(nx_windows):\n",
    "            # Calculate window position\n",
    "            startx = xs*nx_pix_per_step + x_start_stop[0]\n",
    "            endx = startx + xy_window[0]\n",
    "            starty = ys*ny_pix_per_step + y_start_stop[0]\n",
    "            endy = starty + xy_window[1]\n",
    "            \n",
    "            # Append window position to list\n",
    "            window_list.append(((startx, starty), (endx, endy)))\n",
    "    # Return the list of windows\n",
    "    return window_list\n",
    "\n",
    "# Define a function to draw bounding boxes\n",
    "def draw_boxes(img, bboxes, color=(0, 0, 255), thick=6):\n",
    "    # Make a copy of the image\n",
    "    imcopy = np.copy(img)\n",
    "    # Iterate through the bounding boxes\n",
    "    for bbox in bboxes:\n",
    "        # Draw a rectangle given bbox coordinates\n",
    "        cv2.rectangle(imcopy, bbox[0], bbox[1], color, thick)\n",
    "    # Return the image copy with boxes drawn\n",
    "    return imcopy\n"
   ]
  },
  {
   "cell_type": "code",
   "execution_count": null,
   "metadata": {
    "collapsed": false,
    "deletable": true,
    "editable": true
   },
   "outputs": [],
   "source": [
    "\n"
   ]
  }
 ],
 "metadata": {
  "kernelspec": {
   "display_name": "Python 3",
   "language": "python",
   "name": "python3"
  },
  "language_info": {
   "codemirror_mode": {
    "name": "ipython",
    "version": 3
   },
   "file_extension": ".py",
   "mimetype": "text/x-python",
   "name": "python",
   "nbconvert_exporter": "python",
   "pygments_lexer": "ipython3",
   "version": "3.5.2"
  },
  "widgets": {
   "state": {},
   "version": "1.1.2"
  }
 },
 "nbformat": 4,
 "nbformat_minor": 2
}
