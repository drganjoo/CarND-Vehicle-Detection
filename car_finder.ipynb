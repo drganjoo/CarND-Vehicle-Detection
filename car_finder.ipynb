{
 "cells": [
  {
   "cell_type": "code",
   "execution_count": 1,
   "metadata": {
    "collapsed": false
   },
   "outputs": [
    {
     "name": "stdout",
     "output_type": "stream",
     "text": [
      "{'svm': LinearSVC(C=1.0, class_weight=None, dual=True, fit_intercept=True,\n",
      "     intercept_scaling=1, loss='squared_hinge', max_iter=1000,\n",
      "     multi_class='ovr', penalty='l2', random_state=None, tol=0.0001,\n",
      "     verbose=0), 'params': {'hog_feat': True, 'spatial_size': (32, 32), 'orient': 11, 'pix_per_cell': 16, 'spatial_feat': True, 'hist_feat': True, 'cell_per_block': 2, 'C': 1, 'hist_bins': 32, 'hog_channel': 'ALL', 'kernel': 'linear', 'color_space': 'LUV'}, 'scaler': StandardScaler(copy=True, with_mean=True, with_std=True)}\n"
     ]
    }
   ],
   "source": [
    "import matplotlib.pyplot as plt\n",
    "import cv2\n",
    "import numpy as np\n",
    "import time\n",
    "import cv2\n",
    "import pickle\n",
    "import threading\n",
    "from lesson_functions import *\n",
    "from boxes import *\n",
    "\n",
    "with open('svm.p', 'rb') as f:\n",
    "    data = pickle.load(f)\n",
    "    print(data)\n",
    "    svc = data['svm']\n",
    "    X_scaler = data['scaler']\n",
    "    params = data['params']\n"
   ]
  },
  {
   "cell_type": "code",
   "execution_count": null,
   "metadata": {
    "collapsed": true
   },
   "outputs": [],
   "source": [
    "import time\n",
    "import cv2\n",
    "from skimage.feature import hog\n",
    "from boxes import *\n",
    "\n",
    "class WindowFeatureThread(threading.Thread):\n",
    "    def __init__(self, img_cs, windows):\n",
    "        threading.Thread.__init__(self)\n",
    "        \n",
    "        self.windows = windows\n",
    "        self.window_features = []\n",
    "        self.img_cs = np.copy(img_cs)\n",
    "        \n",
    "    def run(self):\n",
    "        for window in self.windows:\n",
    "            window_img = self.img_cs[window[0][1]:window[1][1], window[0][0]:window[1][0]]\n",
    "            window_img_64 = cv2.resize(window_img, (64,64))\n",
    "\n",
    "            single_window_features = single_img_features(window_img_64, \n",
    "                        spatial_size=params['spatial_size']\n",
    "                        hist_bins=params['hist_bins'], \n",
    "                        orient=parms['orient'], \n",
    "                        pix_per_cell=params['pix_per_cell'], \n",
    "                        cell_per_block=params['cell_per_block'],\n",
    "                        hog_channel=params['hog_channel'],\n",
    "                        spatial_feat=params['spatial_feat'],\n",
    "                        hist_feat=params['hist_feat'], \n",
    "                        hog_feat=True,\n",
    "                        vis=False)\n",
    "            \n",
    "            self.window_features.append(single_window_features)\n",
    "                            \n",
    "class WindowFeatureFinder():\n",
    "    def __init__(self, img_cs):\n",
    "        self.img_cs = img_cs\n",
    "        self.windows = get_all_windows(img_cs)\n",
    "    \n",
    "    # returns features for all windows\n",
    "    def find_features(self):\n",
    "        threads = []\n",
    "\n",
    "        t1 = time.time()\n",
    "        per_thread = len(self.windows) // 10\n",
    "\n",
    "        for i in range(0, len(boxes), per_thread):\n",
    "            if i + per_thread < len(boxes):\n",
    "                box_range = boxes[i:i + per_thread]\n",
    "            else:\n",
    "                box_range = boxes[i:]\n",
    "\n",
    "            thread = CarDetector(img_cs, box_range)\n",
    "            threads.append(thread)\n",
    "            thread.start()\n",
    "\n",
    "        for thread in threads:\n",
    "            thread.join()\n",
    "            full_hog.extend(thread.box_hogs)\n",
    "\n",
    "        t2 = time.time()\n",
    "        print('Total time taken for {} boxes to be reduced and hogged {:.2f} secs'.format(len(boxes), t2 - t1))"
   ]
  }
 ],
 "metadata": {
  "kernelspec": {
   "display_name": "Python 3",
   "language": "python",
   "name": "python3"
  },
  "language_info": {
   "codemirror_mode": {
    "name": "ipython",
    "version": 3
   },
   "file_extension": ".py",
   "mimetype": "text/x-python",
   "name": "python",
   "nbconvert_exporter": "python",
   "pygments_lexer": "ipython3",
   "version": "3.5.2"
  },
  "widgets": {
   "state": {},
   "version": "1.1.2"
  }
 },
 "nbformat": 4,
 "nbformat_minor": 2
}
