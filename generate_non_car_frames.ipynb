{
 "cells": [
  {
   "cell_type": "code",
   "execution_count": null,
   "metadata": {
    "collapsed": true
   },
   "outputs": [],
   "source": [
    "#frame = '0749'\n",
    "#frame = '0163'\n",
    "import cv2\n",
    "import os\n",
    "import glob\n",
    "\n",
    "count = len(glob.glob('./problem/*.jpeg'))\n",
    "\n",
    "frame = '0120'\n",
    "img = load_image('./project_video-frames/{}.jpg'.format(frame), \"RGB\")\n",
    "img = img[380:,200:]\n",
    "\n",
    "boxes = []\n",
    "x_start = 0\n",
    "x_end = None\n",
    "y_start = 10\n",
    "y_end = 200\n",
    "box = (175, 160)\n",
    "\n",
    "boxes.extend(get_boxes(img, x_start_stop=[x_start, x_end], y_start_stop=[y_start, y_end], \n",
    "                    box=box, offset_factor=(-0.2,1)))\n",
    "img_rect = np.copy(img)\n",
    "\n",
    "for index, box in enumerate(boxes):\n",
    "    box_img = img[box[0][1]:box[1][1], box[0][0]:box[1][0]]\n",
    "    box_img = cv2.resize(box_img, (64, 64))\n",
    "    box_bgr = cv2.cvtColor(box_img, cv2.COLOR_RGB2BGR)\n",
    "\n",
    "    count += 1\n",
    "    filename = './problem/{}-{}.jpeg'.format(frame, count)\n",
    "    cv2.imwrite(filename, box_bgr)\n",
    "    print('File Saved ', filename)\n",
    "\n",
    "    cv2.rectangle(img_rect, box[0], box[1], (255, 0, 0), 4)\n",
    "\n",
    "plt.imshow(img_rect)\n",
    "plt.show()"
   ]
  }
 ],
 "metadata": {
  "kernelspec": {
   "display_name": "Python 3",
   "language": "python",
   "name": "python3"
  },
  "language_info": {
   "codemirror_mode": {
    "name": "ipython",
    "version": 3
   },
   "file_extension": ".py",
   "mimetype": "text/x-python",
   "name": "python",
   "nbconvert_exporter": "python",
   "pygments_lexer": "ipython3",
   "version": "3.5.2"
  },
  "widgets": {
   "state": {},
   "version": "1.1.2"
  }
 },
 "nbformat": 4,
 "nbformat_minor": 2
}
