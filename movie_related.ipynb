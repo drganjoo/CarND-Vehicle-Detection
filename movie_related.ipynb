{
 "cells": [
  {
   "cell_type": "markdown",
   "metadata": {
    "deletable": true,
    "editable": true
   },
   "source": [
    "## Process Movie"
   ]
  },
  {
   "cell_type": "code",
   "execution_count": null,
   "metadata": {
    "collapsed": false,
    "deletable": true,
    "editable": true,
    "scrolled": false
   },
   "outputs": [],
   "source": [
    "import pickle\n",
    "import os\n",
    "from car_finder import VehicleIdentifier\n",
    "from moviepy.editor import VideoFileClip\n",
    "\n",
    "# load parameters saved by the training process\n",
    "\n",
    "with open('svm-yuv-16x2x11.p', 'rb') as f:\n",
    "    data = pickle.load(f)\n",
    "    svc = data['svm']\n",
    "    X_scaler = data['scaler']\n",
    "    params = data['params']\n",
    "\n",
    "# load identifier and pass it the svc, scaler and params\n",
    "identifier = VehicleIdentifier(params, svc, X_scaler)\n",
    "\n",
    "video_filename = 'project_video.mp4'\n",
    "clip = VideoFileClip(video_filename)\n",
    "\n",
    "video_with_cars = clip.fl_image(identifier.process_frame)\n",
    "\n",
    "output = os.path.splitext(video_filename)\n",
    "output_file = output[0] + \"_check\" + output[1]\n",
    "\n",
    "video_with_cars.write_videofile(output_file, audio=False)\n",
    "\n",
    "print('File saved to:', output_file)"
   ]
  },
  {
   "cell_type": "markdown",
   "metadata": {
    "deletable": true,
    "editable": true
   },
   "source": [
    "## Make Movie Out of Frames"
   ]
  },
  {
   "cell_type": "code",
   "execution_count": 1,
   "metadata": {
    "collapsed": false,
    "deletable": true,
    "editable": true
   },
   "outputs": [
    {
     "name": "stdout",
     "output_type": "stream",
     "text": [
      "[MoviePy] >>>> Building video ./frame-cars/0.mp4\n",
      "[MoviePy] Writing video ./frame-cars/0.mp4\n"
     ]
    },
    {
     "name": "stderr",
     "output_type": "stream",
     "text": [
      "100%|██████████████████████████████████████████████████████████████████████████████| 1260/1260 [00:29<00:00, 42.26it/s]\n"
     ]
    },
    {
     "name": "stdout",
     "output_type": "stream",
     "text": [
      "[MoviePy] Done.\n",
      "[MoviePy] >>>> Video ready: ./frame-cars/0.mp4 \n",
      "\n"
     ]
    }
   ],
   "source": [
    "from moviepy.editor import VideoFileClip\n",
    "from moviepy.editor import ImageSequenceClip\n",
    "\n",
    "files = './frame-cars/'\n",
    "output = './frame-cars/0.mp4'\n",
    "\n",
    "clip = ImageSequenceClip(files, fps=25)\n",
    "clip.to_videofile(output, fps=25) # many options available\n"
   ]
  },
  {
   "cell_type": "markdown",
   "metadata": {
    "deletable": true,
    "editable": true
   },
   "source": [
    "## Get Frames Into Folder"
   ]
  },
  {
   "cell_type": "code",
   "execution_count": null,
   "metadata": {
    "collapsed": true,
    "deletable": true,
    "editable": true
   },
   "outputs": [],
   "source": [
    "from moviepy.editor import VideoFileClip\n",
    "\n",
    "video_filename = 'project_video-29-39.mp4'\n",
    "\n",
    "output = os.path.splitext(video_filename)\n",
    "output_folder = \"{}-frames\".format(output[0])\n",
    "\n",
    "if os.path.exists(output_folder):\n",
    "    print('removing folder', output_folder)\n",
    "    shutil.rmtree(output_folder)\n",
    "\n",
    "os.mkdir(output_folder)\n",
    "print('Folder created', output_folder)\n",
    "\n",
    "clip = VideoFileClip(video_filename)\n",
    "\n",
    "for i, image in enumerate(clip.iter_frames()):\n",
    "    mpimg.imsave(\"{}/{:04d}.jpg\".format(output_folder, i), image, format=\"jpeg\")\n",
    "    print(\"{} generated\".format(i), end='\\r')\n",
    "\n",
    "print(\"done\")"
   ]
  },
  {
   "cell_type": "markdown",
   "metadata": {
    "deletable": true,
    "editable": true
   },
   "source": [
    "## Process Actual Movie"
   ]
  },
  {
   "cell_type": "code",
   "execution_count": null,
   "metadata": {
    "collapsed": true,
    "deletable": true,
    "editable": true
   },
   "outputs": [],
   "source": [
    "from moviepy.editor import VideoFileClip\n",
    "\n",
    "identifier = VehicleIdentifier()\n",
    "print(identifier.heatmaps)\n",
    "\n",
    "video_filename = 'project_video.mp4'\n",
    "clip = VideoFileClip(video_filename)\n",
    "\n",
    "video_with_cars = clip.fl_image(identifier.process_image)\n",
    "\n",
    "output = os.path.splitext(video_filename)\n",
    "output_file = output[0] + \"-cars\" + output[1]\n",
    "\n",
    "video_with_cars.write_videofile(output_file, audio=False)\n",
    "\n",
    "print('File saved to:', output_file)"
   ]
  }
 ],
 "metadata": {
  "kernelspec": {
   "display_name": "Python 3",
   "language": "python",
   "name": "python3"
  },
  "language_info": {
   "codemirror_mode": {
    "name": "ipython",
    "version": 3
   },
   "file_extension": ".py",
   "mimetype": "text/x-python",
   "name": "python",
   "nbconvert_exporter": "python",
   "pygments_lexer": "ipython3",
   "version": "3.5.2"
  },
  "widgets": {
   "state": {},
   "version": "1.1.2"
  }
 },
 "nbformat": 4,
 "nbformat_minor": 2
}
