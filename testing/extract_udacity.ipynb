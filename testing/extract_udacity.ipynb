{
 "cells": [
  {
   "cell_type": "code",
   "execution_count": 10,
   "metadata": {
    "collapsed": false,
    "deletable": true,
    "editable": true,
    "scrolled": false
   },
   "outputs": [
    {
     "name": "stdout",
     "output_type": "stream",
     "text": [
      "D:\\carnd\\CarND-Vehicle-Detection\\data\\crowd-ai/0.jpeg\n",
      "D:\\carnd\\CarND-Vehicle-Detection\\data\\crowd-ai/1.jpeg\n",
      "D:\\carnd\\CarND-Vehicle-Detection\\data\\crowd-ai/2.jpeg\n",
      "D:\\carnd\\CarND-Vehicle-Detection\\data\\crowd-ai/3.jpeg\n",
      "D:\\carnd\\CarND-Vehicle-Detection\\data\\crowd-ai/4.jpeg\n"
     ]
    }
   ],
   "source": [
    "import csv\n",
    "import cv2\n",
    "import matplotlib.pyplot as plt\n",
    "import matplotlib.image as mpimg\n",
    "import numpy as np\n",
    "\n",
    "data_folder = 'C:\\\\Users\\\\fahad\\\\Downloads\\\\object-detection-crowdai.tar\\\\object-detection-crowdai'\n",
    "output_folder = 'D:\\\\carnd\\\\CarND-Vehicle-Detection\\\\data\\\\crowd-ai'\n",
    "\n",
    "with open('{}/labels.csv'.format(data_folder), 'r') as f:\n",
    "    reader = csv.reader(f)\n",
    "    next(reader, None)\n",
    "    \n",
    "    index = 0\n",
    "    for row in reader:\n",
    "        if row[5] == 'Car':\n",
    "            #print(row)\n",
    "            filename = row[4]\n",
    "            \n",
    "            img = mpimg.imread('{}/{}'.format(data_folder, filename))\n",
    "            \n",
    "#             x = [int(row[0]), int(row[1])]\n",
    "#             y = [int(row[2]), int(row[3])]\n",
    "\n",
    "            x = [int(row[0]), int(row[2])]\n",
    "            y = [int(row[1]), int(row[3])]\n",
    "            \n",
    "            if x[0] < x[1]:\n",
    "                x1, x2 = x[0], x[1]\n",
    "            else:\n",
    "                x2, x1 = x[0], x[1]\n",
    "                \n",
    "            if y[0] < y[1]:\n",
    "                y1, y2 = y[0], y[1]\n",
    "            else:\n",
    "                y2, y1 = y[0], y[1]\n",
    "            \n",
    "            img_car = img[y1:y2,x1:x2]\n",
    "            img_car_64 = cv2.resize(img_car, (64,64))\n",
    "\n",
    "            img_car_64bgr = cv2.cvtColor(img_car_64, cv2.COLOR_RGB2BGR)\n",
    "            \n",
    "            output_file = '{}/{}.jpeg'.format(output_folder, index)\n",
    "            print(output_file)\n",
    "            cv2.imwrite(output_file, img_car_64bgr)\n",
    "            \n",
    "            #cv2.rectangle(img, (x1,y1), (x2,y2), (255, 0, 0), 6)\n",
    "            \n",
    "            #f, (ax1, ax2) = plt.subplots(1,2,figsize=(10,5))\n",
    "            #ax1.imshow(img)\n",
    "            #ax1.set_title('Row #: {}'.format(index))\n",
    "            #ax2.imshow(img_car_64)\n",
    "            #ax2.set_title('{},{},{},{}'.format(x1,y1, x2, y2))\n",
    "            \n",
    "            index += 1\n",
    "            if index > 4:\n",
    "                break\n",
    "plt.show()"
   ]
  }
 ],
 "metadata": {
  "kernelspec": {
   "display_name": "Python 3",
   "language": "python",
   "name": "python3"
  },
  "language_info": {
   "codemirror_mode": {
    "name": "ipython",
    "version": 3
   },
   "file_extension": ".py",
   "mimetype": "text/x-python",
   "name": "python",
   "nbconvert_exporter": "python",
   "pygments_lexer": "ipython3",
   "version": "3.5.2"
  },
  "widgets": {
   "state": {},
   "version": "1.1.2"
  }
 },
 "nbformat": 4,
 "nbformat_minor": 2
}
